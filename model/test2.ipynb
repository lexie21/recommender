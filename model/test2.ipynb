{
 "cells": [
  {
   "cell_type": "code",
   "execution_count": 312,
   "metadata": {},
   "outputs": [
    {
     "data": {
      "text/plain": [
       "'\\nToDos:\\n\\nin model_serving will need the full dataframe and the pickle file model\\n\\nFirst, request stores some movie_id => 1. filter those in the same genres with the highest scores, use explode here \\n3. add = filter out the top N based on text similarities with other movies\\n- dimensionality reduction of overview and soup\\n- plot of variance decomposition\\n- cosine similaritity\\n- check for duplicates\\n2. collaborative filtering: within this smaller pool, based on rating with other movies\\n- create rating matrix\\n- weighted mean\\n- reverse mapping between index and title\\n\\n\\n'"
      ]
     },
     "execution_count": 312,
     "metadata": {},
     "output_type": "execute_result"
    }
   ],
   "source": [
    "import pandas as pd\n",
    "import numpy as np\n",
    "import matplotlib.pyplot as plt\n",
    "import pickle\n",
    "# from sklearn.metrics import mean_squared_error\n",
    "from sklearn.metrics.pairwise import cosine_similarity\n",
    "from sklearn.decomposition import TruncatedSVD\n",
    "from sklearn.feature_extraction.text import TfidfVectorizer\n",
    "from ast import literal_eval\n",
    "\n",
    "BASE_PATH = \"C:/Users/MrLinh/Downloads/movie_reccommender/model\"\n",
    "PATH_TO_IMDB = f\"{BASE_PATH}/movies_data/imdb_folder\"\n",
    "PATH_TO_RATING = f\"{PATH_TO_IMDB}/ratings_small.csv\"\n",
    "\n",
    "PATH_TO_MLENS = f\"\"\n",
    "\n",
    "PATH_TO_FEATURE_STORE = f\"{BASE_PATH}/feature_store_new.csv\"\n",
    "PATH_TO_VECTORIZED_TEXT = f\"{BASE_PATH}/vectorized_text.pickle\"\n",
    "PATH_TO_COSINE_MATRIX = f\"{BASE_PATH}/cosine_matrix.pickle\"\n",
    "PATH_TO_SVD = f\"{BASE_PATH}/svd_matrix.pickle\"\n",
    "PATH_TO_VECTORIZER = f\"{BASE_PATH}/vectorizer.pickle\"\n",
    "\n",
    "\"\"\"\n",
    "ToDos:\n",
    "\n",
    "in model_serving will need the full dataframe and the pickle file model\n",
    "\n",
    "First, request stores some movie_id => 1. filter those in the same genres with the highest scores, use explode here \n",
    "3. add = filter out the top N based on text similarities with other movies\n",
    "- dimensionality reduction of overview and soup\n",
    "- plot of variance decomposition\n",
    "- cosine similaritity\n",
    "- check for duplicates\n",
    "2. collaborative filtering: within this smaller pool, based on rating with other movies\n",
    "- create rating matrix\n",
    "- weighted mean\n",
    "- reverse mapping between index and title\n",
    "\n",
    "\n",
    "\"\"\"\n"
   ]
  },
  {
   "cell_type": "code",
   "execution_count": 2,
   "metadata": {},
   "outputs": [],
   "source": [
    "FEATURE_STORE = pd.read_csv(PATH_TO_FEATURE_STORE)\n",
    "FEATURE_STORE[\"overview\"].fillna('',inplace=True)\n",
    "FEATURE_STORE[\"soup\"].fillna('',inplace=True)\n",
    "# TARGETS = \n",
    "COVARIATES = [\"overview\", \"soup\"]\n",
    "\n",
    "X = FEATURE_STORE[COVARIATES]"
   ]
  },
  {
   "cell_type": "code",
   "execution_count": 2,
   "metadata": {},
   "outputs": [
    {
     "name": "stderr",
     "output_type": "stream",
     "text": [
      "C:\\Users\\MrLinh\\AppData\\Local\\Temp\\ipykernel_15968\\3326728385.py:1: SettingWithCopyWarning: \n",
      "A value is trying to be set on a copy of a slice from a DataFrame.\n",
      "Try using .loc[row_indexer,col_indexer] = value instead\n",
      "\n",
      "See the caveats in the documentation: https://pandas.pydata.org/pandas-docs/stable/user_guide/indexing.html#returning-a-view-versus-a-copy\n",
      "  X[\"text_data\"] = X[\"overview\"] + X[\"soup\"]\n"
     ]
    }
   ],
   "source": [
    "X[\"text_data\"] = X[\"overview\"] + X[\"soup\"]"
   ]
  },
  {
   "cell_type": "code",
   "execution_count": 3,
   "metadata": {},
   "outputs": [],
   "source": [
    "vectorizer = TfidfVectorizer()\n",
    "vectorizer = vectorizer.fit_transform(X[\"text_data\"])"
   ]
  },
  {
   "cell_type": "code",
   "execution_count": 27,
   "metadata": {},
   "outputs": [],
   "source": [
    "# with open(PATH_TO_VECTORIZER, \"wb\") as file:\n",
    "#     pickle.dump(vectorizer, file)"
   ]
  },
  {
   "cell_type": "code",
   "execution_count": 5,
   "metadata": {},
   "outputs": [],
   "source": [
    "svd = TruncatedSVD(n_components=1000)\n",
    "svd_matrix = svd.fit_transform(vectorizer)"
   ]
  },
  {
   "cell_type": "code",
   "execution_count": 28,
   "metadata": {},
   "outputs": [],
   "source": [
    "# Save the model object, not the np array!!!\n",
    "# with open(PATH_TO_SVD, \"wb\") as file:\n",
    "#     pickle.dump(svd_matrix, file)"
   ]
  },
  {
   "cell_type": "code",
   "execution_count": 378,
   "metadata": {},
   "outputs": [],
   "source": [
    "with open(PATH_TO_SVD,\"rb\") as file:\n",
    "    svd = pickle.load(file)"
   ]
  },
  {
   "cell_type": "code",
   "execution_count": 18,
   "metadata": {},
   "outputs": [
    {
     "data": {
      "text/plain": [
       "(9384, 1000)"
      ]
     },
     "execution_count": 18,
     "metadata": {},
     "output_type": "execute_result"
    }
   ],
   "source": [
    "svd_matrix.shape"
   ]
  },
  {
   "cell_type": "code",
   "execution_count": 14,
   "metadata": {},
   "outputs": [
    {
     "data": {
      "text/plain": [
       "0.004664543885765755"
      ]
     },
     "execution_count": 14,
     "metadata": {},
     "output_type": "execute_result"
    }
   ],
   "source": [
    "svd.explained_variance_ratio_.ravel()[svd.explained_variance_ratio_.ravel().argmax()]"
   ]
  },
  {
   "cell_type": "code",
   "execution_count": 7,
   "metadata": {},
   "outputs": [
    {
     "data": {
      "text/plain": [
       "(9384, 1000)"
      ]
     },
     "execution_count": 7,
     "metadata": {},
     "output_type": "execute_result"
    }
   ],
   "source": [
    "svd_matrix.shape"
   ]
  },
  {
   "cell_type": "code",
   "execution_count": 19,
   "metadata": {},
   "outputs": [],
   "source": [
    "cosine_matrix = cosine_similarity(svd_matrix)"
   ]
  },
  {
   "cell_type": "code",
   "execution_count": 29,
   "metadata": {},
   "outputs": [],
   "source": [
    "# with open(PATH_TO_COSINE_MATRIX, \"wb\") as file:\n",
    "#     pickle.dump(cosine_matrix, file)"
   ]
  },
  {
   "cell_type": "code",
   "execution_count": 21,
   "metadata": {},
   "outputs": [
    {
     "data": {
      "text/plain": [
       "(9384, 9384)"
      ]
     },
     "execution_count": 21,
     "metadata": {},
     "output_type": "execute_result"
    }
   ],
   "source": [
    "cosine_matrix.shape"
   ]
  },
  {
   "cell_type": "code",
   "execution_count": 23,
   "metadata": {},
   "outputs": [],
   "source": [
    "cosine_matrix_df = pd.DataFrame(cosine_matrix,index=FEATURE_STORE.id, columns=FEATURE_STORE.id)"
   ]
  },
  {
   "cell_type": "code",
   "execution_count": 10,
   "metadata": {},
   "outputs": [
    {
     "data": {
      "text/html": [
       "<div>\n",
       "<style scoped>\n",
       "    .dataframe tbody tr th:only-of-type {\n",
       "        vertical-align: middle;\n",
       "    }\n",
       "\n",
       "    .dataframe tbody tr th {\n",
       "        vertical-align: top;\n",
       "    }\n",
       "\n",
       "    .dataframe thead th {\n",
       "        text-align: right;\n",
       "    }\n",
       "</style>\n",
       "<table border=\"1\" class=\"dataframe\">\n",
       "  <thead>\n",
       "    <tr style=\"text-align: right;\">\n",
       "      <th></th>\n",
       "      <th>Unnamed: 0</th>\n",
       "      <th>adult</th>\n",
       "      <th>belongs_to_collection</th>\n",
       "      <th>budget</th>\n",
       "      <th>genres</th>\n",
       "      <th>homepage</th>\n",
       "      <th>id</th>\n",
       "      <th>imdb_id</th>\n",
       "      <th>original_language</th>\n",
       "      <th>original_title</th>\n",
       "      <th>...</th>\n",
       "      <th>spoken_languages</th>\n",
       "      <th>status</th>\n",
       "      <th>tagline</th>\n",
       "      <th>title</th>\n",
       "      <th>video</th>\n",
       "      <th>vote_average</th>\n",
       "      <th>vote_count</th>\n",
       "      <th>keywords</th>\n",
       "      <th>score</th>\n",
       "      <th>soup</th>\n",
       "    </tr>\n",
       "  </thead>\n",
       "  <tbody>\n",
       "    <tr>\n",
       "      <th>443</th>\n",
       "      <td>903</td>\n",
       "      <td>False</td>\n",
       "      <td>{'id': 4438, 'name': 'The Space Odyssey Series...</td>\n",
       "      <td>10500000</td>\n",
       "      <td>['sciencefiction', 'mystery', 'adventure']</td>\n",
       "      <td>NaN</td>\n",
       "      <td>62</td>\n",
       "      <td>tt0062622</td>\n",
       "      <td>en</td>\n",
       "      <td>2001: A Space Odyssey</td>\n",
       "      <td>...</td>\n",
       "      <td>[{'iso_639_1': 'en', 'name': 'English'}, {'iso...</td>\n",
       "      <td>Released</td>\n",
       "      <td>An epic drama of adventure and exploration</td>\n",
       "      <td>2001: A Space Odyssey</td>\n",
       "      <td>False</td>\n",
       "      <td>7.9</td>\n",
       "      <td>3075.0</td>\n",
       "      <td>['moon', 'jupiter', 'artificialintelligence']</td>\n",
       "      <td>7.875789</td>\n",
       "      <td>moon jupiter artificialintelligencesciencefict...</td>\n",
       "    </tr>\n",
       "    <tr>\n",
       "      <th>9381</th>\n",
       "      <td>46364</td>\n",
       "      <td>False</td>\n",
       "      <td>NaN</td>\n",
       "      <td>0</td>\n",
       "      <td>['action', 'adventure', 'thriller']</td>\n",
       "      <td>NaN</td>\n",
       "      <td>44918</td>\n",
       "      <td>tt1640571</td>\n",
       "      <td>en</td>\n",
       "      <td>Titanic II</td>\n",
       "      <td>...</td>\n",
       "      <td>[{'iso_639_1': 'en', 'name': 'English'}]</td>\n",
       "      <td>Released</td>\n",
       "      <td>100 years later, lightning strikes twice</td>\n",
       "      <td>Titanic 2</td>\n",
       "      <td>False</td>\n",
       "      <td>3.4</td>\n",
       "      <td>55.0</td>\n",
       "      <td>['suspense']</td>\n",
       "      <td>4.792916</td>\n",
       "      <td>suspenseaction adventure thriller</td>\n",
       "    </tr>\n",
       "  </tbody>\n",
       "</table>\n",
       "<p>2 rows × 28 columns</p>\n",
       "</div>"
      ],
      "text/plain": [
       "      Unnamed: 0  adult                              belongs_to_collection  \\\n",
       "443          903  False  {'id': 4438, 'name': 'The Space Odyssey Series...   \n",
       "9381       46364  False                                                NaN   \n",
       "\n",
       "        budget                                      genres homepage     id  \\\n",
       "443   10500000  ['sciencefiction', 'mystery', 'adventure']      NaN     62   \n",
       "9381         0         ['action', 'adventure', 'thriller']      NaN  44918   \n",
       "\n",
       "        imdb_id original_language         original_title  ...  \\\n",
       "443   tt0062622                en  2001: A Space Odyssey  ...   \n",
       "9381  tt1640571                en             Titanic II  ...   \n",
       "\n",
       "                                       spoken_languages    status  \\\n",
       "443   [{'iso_639_1': 'en', 'name': 'English'}, {'iso...  Released   \n",
       "9381           [{'iso_639_1': 'en', 'name': 'English'}]  Released   \n",
       "\n",
       "                                         tagline                  title  \\\n",
       "443   An epic drama of adventure and exploration  2001: A Space Odyssey   \n",
       "9381    100 years later, lightning strikes twice              Titanic 2   \n",
       "\n",
       "      video vote_average  vote_count  \\\n",
       "443   False          7.9      3075.0   \n",
       "9381  False          3.4        55.0   \n",
       "\n",
       "                                           keywords     score  \\\n",
       "443   ['moon', 'jupiter', 'artificialintelligence']  7.875789   \n",
       "9381                                   ['suspense']  4.792916   \n",
       "\n",
       "                                                   soup  \n",
       "443   moon jupiter artificialintelligencesciencefict...  \n",
       "9381                  suspenseaction adventure thriller  \n",
       "\n",
       "[2 rows x 28 columns]"
      ]
     },
     "execution_count": 10,
     "metadata": {},
     "output_type": "execute_result"
    }
   ],
   "source": [
    "FEATURE_STORE[FEATURE_STORE.id.apply(lambda x: x in [44918,62])]"
   ]
  },
  {
   "cell_type": "code",
   "execution_count": null,
   "metadata": {},
   "outputs": [],
   "source": [
    "\"\"\"in model_serving will need the full dataframe and the pickle file model\n",
    "\n",
    "First, request stores some movie_id => 1. filter those in the same genres with the highest scores, use explode here \n",
    "3. add = filter out the top N based on text similarities with other movies\n",
    "- dimensionality reduction of overview and soup\n",
    "- plot of variance decomposition\n",
    "- cosine similaritity\n",
    "- check for duplicates\n",
    "2. collaborative filtering: within this smaller pool, based on rating with other movies\n",
    "- create rating matrix\n",
    "- weighted mean\n",
    "- reverse mapping between index and title\"\"\""
   ]
  },
  {
   "cell_type": "code",
   "execution_count": 11,
   "metadata": {},
   "outputs": [],
   "source": [
    "FEATURE_STORE[\"genres\"] = FEATURE_STORE[\"genres\"].apply(literal_eval)\n",
    "# always do this after loading csv file"
   ]
  },
  {
   "cell_type": "code",
   "execution_count": 239,
   "metadata": {},
   "outputs": [],
   "source": [
    "FEATURE_STORE[\"release_date\"] = FEATURE_STORE[\"release_date\"].apply(lambda x: int(x.split('-')[0]) if isinstance(x,str) else 0)"
   ]
  },
  {
   "cell_type": "code",
   "execution_count": 246,
   "metadata": {},
   "outputs": [],
   "source": [
    "final_df = FEATURE_STORE.explode(\"genres\")"
   ]
  },
  {
   "cell_type": "code",
   "execution_count": 240,
   "metadata": {},
   "outputs": [],
   "source": [
    "min_year = FEATURE_STORE[\"release_date\"].min()\n",
    "final_df = final_df[final_df[\"release_date\"] >= min_year]\n",
    "# need year condition to diversify recommendations"
   ]
  },
  {
   "cell_type": "code",
   "execution_count": 245,
   "metadata": {},
   "outputs": [
    {
     "data": {
      "text/plain": [
       "0"
      ]
     },
     "execution_count": 245,
     "metadata": {},
     "output_type": "execute_result"
    }
   ],
   "source": [
    "FEATURE_STORE[\"release_date\"].min()"
   ]
  },
  {
   "cell_type": "code",
   "execution_count": 247,
   "metadata": {},
   "outputs": [
    {
     "data": {
      "text/plain": [
       "0"
      ]
     },
     "execution_count": 247,
     "metadata": {},
     "output_type": "execute_result"
    }
   ],
   "source": [
    "final_df[\"release_date\"].min()"
   ]
  },
  {
   "cell_type": "code",
   "execution_count": 18,
   "metadata": {},
   "outputs": [
    {
     "data": {
      "text/plain": [
       "(15447, 28)"
      ]
     },
     "execution_count": 18,
     "metadata": {},
     "output_type": "execute_result"
    }
   ],
   "source": [
    "final_df.shape"
   ]
  },
  {
   "cell_type": "code",
   "execution_count": 24,
   "metadata": {},
   "outputs": [],
   "source": [
    "# load cosine simil matrix\n",
    "with open(PATH_TO_COSINE_MATRIX, \"rb\") as file:\n",
    "    simil_matrix = pickle.load(file)"
   ]
  },
  {
   "cell_type": "code",
   "execution_count": 98,
   "metadata": {},
   "outputs": [
    {
     "data": {
      "text/plain": [
       "Index(['Unnamed: 0', 'adult', 'belongs_to_collection', 'budget', 'genres',\n",
       "       'homepage', 'id', 'imdb_id', 'original_language', 'original_title',\n",
       "       'overview', 'popularity', 'poster_path', 'production_companies',\n",
       "       'production_countries', 'release_date', 'revenue', 'runtime',\n",
       "       'spoken_languages', 'status', 'tagline', 'title', 'video',\n",
       "       'vote_average', 'vote_count', 'keywords', 'score', 'soup'],\n",
       "      dtype='object')"
      ]
     },
     "execution_count": 98,
     "metadata": {},
     "output_type": "execute_result"
    }
   ],
   "source": [
    "FEATURE_STORE.columns"
   ]
  },
  {
   "cell_type": "code",
   "execution_count": 29,
   "metadata": {},
   "outputs": [],
   "source": [
    "simil_df = pd.DataFrame(simil_matrix,columns=FEATURE_STORE[\"id\"],index=FEATURE_STORE[\"id\"])"
   ]
  },
  {
   "cell_type": "code",
   "execution_count": 30,
   "metadata": {},
   "outputs": [
    {
     "data": {
      "text/html": [
       "<div>\n",
       "<style scoped>\n",
       "    .dataframe tbody tr th:only-of-type {\n",
       "        vertical-align: middle;\n",
       "    }\n",
       "\n",
       "    .dataframe tbody tr th {\n",
       "        vertical-align: top;\n",
       "    }\n",
       "\n",
       "    .dataframe thead th {\n",
       "        text-align: right;\n",
       "    }\n",
       "</style>\n",
       "<table border=\"1\" class=\"dataframe\">\n",
       "  <thead>\n",
       "    <tr style=\"text-align: right;\">\n",
       "      <th>id</th>\n",
       "      <th>862</th>\n",
       "      <th>8844</th>\n",
       "      <th>15602</th>\n",
       "      <th>11862</th>\n",
       "      <th>949</th>\n",
       "      <th>11860</th>\n",
       "      <th>9091</th>\n",
       "      <th>710</th>\n",
       "      <th>9087</th>\n",
       "      <th>12110</th>\n",
       "      <th>...</th>\n",
       "      <th>68637</th>\n",
       "      <th>451955</th>\n",
       "      <th>54559</th>\n",
       "      <th>417320</th>\n",
       "      <th>277839</th>\n",
       "      <th>430365</th>\n",
       "      <th>248705</th>\n",
       "      <th>44918</th>\n",
       "      <th>455661</th>\n",
       "      <th>14008</th>\n",
       "    </tr>\n",
       "    <tr>\n",
       "      <th>id</th>\n",
       "      <th></th>\n",
       "      <th></th>\n",
       "      <th></th>\n",
       "      <th></th>\n",
       "      <th></th>\n",
       "      <th></th>\n",
       "      <th></th>\n",
       "      <th></th>\n",
       "      <th></th>\n",
       "      <th></th>\n",
       "      <th></th>\n",
       "      <th></th>\n",
       "      <th></th>\n",
       "      <th></th>\n",
       "      <th></th>\n",
       "      <th></th>\n",
       "      <th></th>\n",
       "      <th></th>\n",
       "      <th></th>\n",
       "      <th></th>\n",
       "      <th></th>\n",
       "    </tr>\n",
       "  </thead>\n",
       "  <tbody>\n",
       "    <tr>\n",
       "      <th>862</th>\n",
       "      <td>1.000000</td>\n",
       "      <td>0.065037</td>\n",
       "      <td>0.062389</td>\n",
       "      <td>0.052147</td>\n",
       "      <td>0.046417</td>\n",
       "      <td>0.021350</td>\n",
       "      <td>0.042294</td>\n",
       "      <td>0.036127</td>\n",
       "      <td>0.003106</td>\n",
       "      <td>0.049896</td>\n",
       "      <td>...</td>\n",
       "      <td>0.050494</td>\n",
       "      <td>0.035304</td>\n",
       "      <td>0.033430</td>\n",
       "      <td>0.025476</td>\n",
       "      <td>0.049779</td>\n",
       "      <td>0.029543</td>\n",
       "      <td>0.046412</td>\n",
       "      <td>0.038924</td>\n",
       "      <td>0.084286</td>\n",
       "      <td>0.052921</td>\n",
       "    </tr>\n",
       "    <tr>\n",
       "      <th>8844</th>\n",
       "      <td>0.065037</td>\n",
       "      <td>1.000000</td>\n",
       "      <td>0.110556</td>\n",
       "      <td>0.049448</td>\n",
       "      <td>0.141412</td>\n",
       "      <td>0.019962</td>\n",
       "      <td>0.280361</td>\n",
       "      <td>0.021288</td>\n",
       "      <td>0.024174</td>\n",
       "      <td>0.080014</td>\n",
       "      <td>...</td>\n",
       "      <td>0.052559</td>\n",
       "      <td>0.010041</td>\n",
       "      <td>0.046738</td>\n",
       "      <td>0.076490</td>\n",
       "      <td>0.104255</td>\n",
       "      <td>0.069554</td>\n",
       "      <td>0.100297</td>\n",
       "      <td>0.074023</td>\n",
       "      <td>0.016321</td>\n",
       "      <td>0.066702</td>\n",
       "    </tr>\n",
       "    <tr>\n",
       "      <th>15602</th>\n",
       "      <td>0.062389</td>\n",
       "      <td>0.110556</td>\n",
       "      <td>1.000000</td>\n",
       "      <td>0.114267</td>\n",
       "      <td>0.031412</td>\n",
       "      <td>-0.003700</td>\n",
       "      <td>0.015533</td>\n",
       "      <td>0.049726</td>\n",
       "      <td>0.054819</td>\n",
       "      <td>0.071560</td>\n",
       "      <td>...</td>\n",
       "      <td>0.068594</td>\n",
       "      <td>0.081928</td>\n",
       "      <td>0.048830</td>\n",
       "      <td>0.093769</td>\n",
       "      <td>0.111571</td>\n",
       "      <td>0.043641</td>\n",
       "      <td>0.049751</td>\n",
       "      <td>0.048130</td>\n",
       "      <td>0.024976</td>\n",
       "      <td>0.178935</td>\n",
       "    </tr>\n",
       "    <tr>\n",
       "      <th>11862</th>\n",
       "      <td>0.052147</td>\n",
       "      <td>0.049448</td>\n",
       "      <td>0.114267</td>\n",
       "      <td>1.000000</td>\n",
       "      <td>0.050149</td>\n",
       "      <td>0.085018</td>\n",
       "      <td>0.053000</td>\n",
       "      <td>0.055169</td>\n",
       "      <td>0.105118</td>\n",
       "      <td>0.055736</td>\n",
       "      <td>...</td>\n",
       "      <td>0.073401</td>\n",
       "      <td>0.089235</td>\n",
       "      <td>0.049595</td>\n",
       "      <td>0.154873</td>\n",
       "      <td>0.084230</td>\n",
       "      <td>0.108756</td>\n",
       "      <td>0.056976</td>\n",
       "      <td>0.066366</td>\n",
       "      <td>0.064085</td>\n",
       "      <td>0.082096</td>\n",
       "    </tr>\n",
       "    <tr>\n",
       "      <th>949</th>\n",
       "      <td>0.046417</td>\n",
       "      <td>0.141412</td>\n",
       "      <td>0.031412</td>\n",
       "      <td>0.050149</td>\n",
       "      <td>1.000000</td>\n",
       "      <td>0.000833</td>\n",
       "      <td>0.101006</td>\n",
       "      <td>0.050767</td>\n",
       "      <td>0.023156</td>\n",
       "      <td>0.034314</td>\n",
       "      <td>...</td>\n",
       "      <td>0.013253</td>\n",
       "      <td>0.028615</td>\n",
       "      <td>0.001148</td>\n",
       "      <td>0.032517</td>\n",
       "      <td>0.100615</td>\n",
       "      <td>0.082374</td>\n",
       "      <td>0.081001</td>\n",
       "      <td>0.096766</td>\n",
       "      <td>0.018148</td>\n",
       "      <td>0.036058</td>\n",
       "    </tr>\n",
       "  </tbody>\n",
       "</table>\n",
       "<p>5 rows × 9384 columns</p>\n",
       "</div>"
      ],
      "text/plain": [
       "id       862       8844      15602     11862     949       11860     9091    \\\n",
       "id                                                                            \n",
       "862    1.000000  0.065037  0.062389  0.052147  0.046417  0.021350  0.042294   \n",
       "8844   0.065037  1.000000  0.110556  0.049448  0.141412  0.019962  0.280361   \n",
       "15602  0.062389  0.110556  1.000000  0.114267  0.031412 -0.003700  0.015533   \n",
       "11862  0.052147  0.049448  0.114267  1.000000  0.050149  0.085018  0.053000   \n",
       "949    0.046417  0.141412  0.031412  0.050149  1.000000  0.000833  0.101006   \n",
       "\n",
       "id       710       9087      12110   ...    68637     451955    54559   \\\n",
       "id                                   ...                                 \n",
       "862    0.036127  0.003106  0.049896  ...  0.050494  0.035304  0.033430   \n",
       "8844   0.021288  0.024174  0.080014  ...  0.052559  0.010041  0.046738   \n",
       "15602  0.049726  0.054819  0.071560  ...  0.068594  0.081928  0.048830   \n",
       "11862  0.055169  0.105118  0.055736  ...  0.073401  0.089235  0.049595   \n",
       "949    0.050767  0.023156  0.034314  ...  0.013253  0.028615  0.001148   \n",
       "\n",
       "id       417320    277839    430365    248705    44918     455661    14008   \n",
       "id                                                                           \n",
       "862    0.025476  0.049779  0.029543  0.046412  0.038924  0.084286  0.052921  \n",
       "8844   0.076490  0.104255  0.069554  0.100297  0.074023  0.016321  0.066702  \n",
       "15602  0.093769  0.111571  0.043641  0.049751  0.048130  0.024976  0.178935  \n",
       "11862  0.154873  0.084230  0.108756  0.056976  0.066366  0.064085  0.082096  \n",
       "949    0.032517  0.100615  0.082374  0.081001  0.096766  0.018148  0.036058  \n",
       "\n",
       "[5 rows x 9384 columns]"
      ]
     },
     "execution_count": 30,
     "metadata": {},
     "output_type": "execute_result"
    }
   ],
   "source": [
    "simil_df.head()"
   ]
  },
  {
   "cell_type": "code",
   "execution_count": 375,
   "metadata": {},
   "outputs": [
    {
     "name": "stdout",
     "output_type": "stream",
     "text": [
      "          id         title                               genres     score\n",
      "5772   20526  TRON: Legacy  [adventure, action, sciencefiction]  6.300939\n",
      "9047  402298        Denial                     [drama, history]  6.466492\n",
      "['adventure' 'action' 'action' ... 'drama' 'action' 'action']\n"
     ]
    },
    {
     "data": {
      "text/html": [
       "<div>\n",
       "<style scoped>\n",
       "    .dataframe tbody tr th:only-of-type {\n",
       "        vertical-align: middle;\n",
       "    }\n",
       "\n",
       "    .dataframe tbody tr th {\n",
       "        vertical-align: top;\n",
       "    }\n",
       "\n",
       "    .dataframe thead th {\n",
       "        text-align: right;\n",
       "    }\n",
       "</style>\n",
       "<table border=\"1\" class=\"dataframe\">\n",
       "  <thead>\n",
       "    <tr style=\"text-align: right;\">\n",
       "      <th></th>\n",
       "      <th>id</th>\n",
       "      <th>title</th>\n",
       "      <th>genres</th>\n",
       "      <th>release_date</th>\n",
       "      <th>score</th>\n",
       "    </tr>\n",
       "  </thead>\n",
       "  <tbody>\n",
       "    <tr>\n",
       "      <th>4634</th>\n",
       "      <td>1858</td>\n",
       "      <td>Transformers</td>\n",
       "      <td>[adventure, sciencefiction, action]</td>\n",
       "      <td>2007</td>\n",
       "      <td>6.597132</td>\n",
       "    </tr>\n",
       "    <tr>\n",
       "      <th>7745</th>\n",
       "      <td>249688</td>\n",
       "      <td>The End of the Tour</td>\n",
       "      <td>[drama]</td>\n",
       "      <td>2015</td>\n",
       "      <td>7.121480</td>\n",
       "    </tr>\n",
       "    <tr>\n",
       "      <th>8795</th>\n",
       "      <td>311667</td>\n",
       "      <td>Manhattan Night</td>\n",
       "      <td>[drama, mystery, thriller]</td>\n",
       "      <td>2016</td>\n",
       "      <td>6.176605</td>\n",
       "    </tr>\n",
       "    <tr>\n",
       "      <th>1166</th>\n",
       "      <td>637</td>\n",
       "      <td>Life Is Beautiful</td>\n",
       "      <td>[comedy, drama]</td>\n",
       "      <td>1997</td>\n",
       "      <td>8.274205</td>\n",
       "    </tr>\n",
       "    <tr>\n",
       "      <th>9047</th>\n",
       "      <td>402298</td>\n",
       "      <td>Denial</td>\n",
       "      <td>[drama, history]</td>\n",
       "      <td>2016</td>\n",
       "      <td>6.466492</td>\n",
       "    </tr>\n",
       "    <tr>\n",
       "      <th>1042</th>\n",
       "      <td>97</td>\n",
       "      <td>Tron</td>\n",
       "      <td>[sciencefiction, action, adventure]</td>\n",
       "      <td>1982</td>\n",
       "      <td>6.584417</td>\n",
       "    </tr>\n",
       "    <tr>\n",
       "      <th>1521</th>\n",
       "      <td>550</td>\n",
       "      <td>Fight Club</td>\n",
       "      <td>[drama]</td>\n",
       "      <td>1999</td>\n",
       "      <td>8.290209</td>\n",
       "    </tr>\n",
       "    <tr>\n",
       "      <th>7278</th>\n",
       "      <td>244786</td>\n",
       "      <td>Whiplash</td>\n",
       "      <td>[drama]</td>\n",
       "      <td>2014</td>\n",
       "      <td>8.278478</td>\n",
       "    </tr>\n",
       "    <tr>\n",
       "      <th>5772</th>\n",
       "      <td>20526</td>\n",
       "      <td>TRON: Legacy</td>\n",
       "      <td>[adventure, action, sciencefiction]</td>\n",
       "      <td>2010</td>\n",
       "      <td>6.300939</td>\n",
       "    </tr>\n",
       "    <tr>\n",
       "      <th>2951</th>\n",
       "      <td>290</td>\n",
       "      <td>Barton Fink</td>\n",
       "      <td>[comedy, drama]</td>\n",
       "      <td>1991</td>\n",
       "      <td>7.297522</td>\n",
       "    </tr>\n",
       "    <tr>\n",
       "      <th>4070</th>\n",
       "      <td>19404</td>\n",
       "      <td>Dilwale Dulhania Le Jayenge</td>\n",
       "      <td>[comedy, drama, romance]</td>\n",
       "      <td>1995</td>\n",
       "      <td>8.910653</td>\n",
       "    </tr>\n",
       "    <tr>\n",
       "      <th>4857</th>\n",
       "      <td>155</td>\n",
       "      <td>The Dark Knight</td>\n",
       "      <td>[drama, action, crime]</td>\n",
       "      <td>2008</td>\n",
       "      <td>8.292268</td>\n",
       "    </tr>\n",
       "    <tr>\n",
       "      <th>2695</th>\n",
       "      <td>129</td>\n",
       "      <td>Spirited Away</td>\n",
       "      <td>[fantasy, adventure, animation]</td>\n",
       "      <td>2001</td>\n",
       "      <td>8.276292</td>\n",
       "    </tr>\n",
       "    <tr>\n",
       "      <th>8346</th>\n",
       "      <td>157843</td>\n",
       "      <td>Queen of the Desert</td>\n",
       "      <td>[drama, history]</td>\n",
       "      <td>2015</td>\n",
       "      <td>6.214212</td>\n",
       "    </tr>\n",
       "    <tr>\n",
       "      <th>288</th>\n",
       "      <td>424</td>\n",
       "      <td>Schindler's List</td>\n",
       "      <td>[drama, history, war]</td>\n",
       "      <td>1993</td>\n",
       "      <td>8.278766</td>\n",
       "    </tr>\n",
       "    <tr>\n",
       "      <th>318</th>\n",
       "      <td>251</td>\n",
       "      <td>Ghost</td>\n",
       "      <td>[fantasy, drama, thriller]</td>\n",
       "      <td>1990</td>\n",
       "      <td>6.881373</td>\n",
       "    </tr>\n",
       "    <tr>\n",
       "      <th>171</th>\n",
       "      <td>278</td>\n",
       "      <td>The Shawshank Redemption</td>\n",
       "      <td>[drama, crime]</td>\n",
       "      <td>1994</td>\n",
       "      <td>8.487506</td>\n",
       "    </tr>\n",
       "    <tr>\n",
       "      <th>2473</th>\n",
       "      <td>10950</td>\n",
       "      <td>I Am Sam</td>\n",
       "      <td>[drama]</td>\n",
       "      <td>2001</td>\n",
       "      <td>7.130056</td>\n",
       "    </tr>\n",
       "    <tr>\n",
       "      <th>8972</th>\n",
       "      <td>372058</td>\n",
       "      <td>Your Name.</td>\n",
       "      <td>[romance, animation, drama]</td>\n",
       "      <td>2016</td>\n",
       "      <td>8.402654</td>\n",
       "    </tr>\n",
       "    <tr>\n",
       "      <th>412</th>\n",
       "      <td>238</td>\n",
       "      <td>The Godfather</td>\n",
       "      <td>[drama, crime]</td>\n",
       "      <td>1972</td>\n",
       "      <td>8.482704</td>\n",
       "    </tr>\n",
       "  </tbody>\n",
       "</table>\n",
       "</div>"
      ],
      "text/plain": [
       "          id                        title  \\\n",
       "4634    1858                 Transformers   \n",
       "7745  249688          The End of the Tour   \n",
       "8795  311667              Manhattan Night   \n",
       "1166     637            Life Is Beautiful   \n",
       "9047  402298                       Denial   \n",
       "1042      97                         Tron   \n",
       "1521     550                   Fight Club   \n",
       "7278  244786                     Whiplash   \n",
       "5772   20526                 TRON: Legacy   \n",
       "2951     290                  Barton Fink   \n",
       "4070   19404  Dilwale Dulhania Le Jayenge   \n",
       "4857     155              The Dark Knight   \n",
       "2695     129                Spirited Away   \n",
       "8346  157843          Queen of the Desert   \n",
       "288      424             Schindler's List   \n",
       "318      251                        Ghost   \n",
       "171      278     The Shawshank Redemption   \n",
       "2473   10950                     I Am Sam   \n",
       "8972  372058                   Your Name.   \n",
       "412      238                The Godfather   \n",
       "\n",
       "                                   genres  release_date     score  \n",
       "4634  [adventure, sciencefiction, action]          2007  6.597132  \n",
       "7745                              [drama]          2015  7.121480  \n",
       "8795           [drama, mystery, thriller]          2016  6.176605  \n",
       "1166                      [comedy, drama]          1997  8.274205  \n",
       "9047                     [drama, history]          2016  6.466492  \n",
       "1042  [sciencefiction, action, adventure]          1982  6.584417  \n",
       "1521                              [drama]          1999  8.290209  \n",
       "7278                              [drama]          2014  8.278478  \n",
       "5772  [adventure, action, sciencefiction]          2010  6.300939  \n",
       "2951                      [comedy, drama]          1991  7.297522  \n",
       "4070             [comedy, drama, romance]          1995  8.910653  \n",
       "4857               [drama, action, crime]          2008  8.292268  \n",
       "2695      [fantasy, adventure, animation]          2001  8.276292  \n",
       "8346                     [drama, history]          2015  6.214212  \n",
       "288                 [drama, history, war]          1993  8.278766  \n",
       "318            [fantasy, drama, thriller]          1990  6.881373  \n",
       "171                        [drama, crime]          1994  8.487506  \n",
       "2473                              [drama]          2001  7.130056  \n",
       "8972          [romance, animation, drama]          2016  8.402654  \n",
       "412                        [drama, crime]          1972  8.482704  "
      ]
     },
     "execution_count": 375,
     "metadata": {},
     "output_type": "execute_result"
    }
   ],
   "source": [
    "def movie_rec(movie_ids):\n",
    "    def genres_extract(): # return 10\n",
    "        print(FEATURE_STORE[FEATURE_STORE[\"id\"].apply(lambda x: x in movie_ids)][[\"id\",\"title\",\"genres\",\"score\"]])\n",
    "        genres_list = []\n",
    "        for id in movie_ids:\n",
    "            genres_list += (final_df[final_df[\"id\"] == id][\"genres\"].to_list())\n",
    "\n",
    "        filtered_df = final_df[final_df[\"genres\"].apply(lambda x: x in set(genres_list))].drop_duplicates(subset=\"id\")\n",
    "        print(filtered_df[\"genres\"].values)\n",
    "        return filtered_df.sort_values(by=\"score\",ascending=False)[:10][\"id\"]\n",
    "    def simil_extract(): # return 10\n",
    "        simil_id = []\n",
    "        for id in movie_ids:\n",
    "            simil_id += simil_df[id].sort_values(ascending=False).index.to_list()[:5]\n",
    "        \n",
    "        reduced_df = final_df.drop_duplicates(subset=\"id\")\n",
    "        reduced_id =  reduced_df[reduced_df[\"id\"].apply(lambda x: x in simil_id)].sort_values(by=\"score\",ascending=False)[\"id\"]\n",
    "        return reduced_id\n",
    "       \n",
    "    id1 = genres_extract().to_list()\n",
    "    id2 = simil_extract().to_list()\n",
    "    id_final = id1 + id2\n",
    "    return FEATURE_STORE[FEATURE_STORE[\"id\"].apply(lambda x: x in id_final)][[\"id\",\"title\",\"genres\",\"release_date\",\"score\"]].sample(frac=1)\n",
    "    \n",
    "movie_rec(np.random.choice(final_df.id.unique(),size=2))"
   ]
  },
  {
   "cell_type": "code",
   "execution_count": 376,
   "metadata": {},
   "outputs": [
    {
     "data": {
      "text/plain": [
       "Text(0.5, 1.0, 'Distribution of movies by release year - highly skewed')"
      ]
     },
     "execution_count": 376,
     "metadata": {},
     "output_type": "execute_result"
    },
    {
     "data": {
      "image/png": "[encoded data removed]",
      "text/plain": [
       "<Figure size 640x480 with 1 Axes>"
      ]
     },
     "metadata": {},
     "output_type": "display_data"
    }
   ],
   "source": [
    "plt.hist(FEATURE_STORE[\"release_date\"],bins=1000)\n",
    "plt.xlim(1900,2024)\n",
    "plt.title(\"Distribution of movies by release year - highly skewed\")"
   ]
  }
 ],
 "metadata": {
  "kernelspec": {
   "display_name": "Python 3",
   "language": "python",
   "name": "python3"
  },
  "language_info": {
   "codemirror_mode": {
    "name": "ipython",
    "version": 3
   },
   "file_extension": ".py",
   "mimetype": "text/x-python",
   "name": "python",
   "nbconvert_exporter": "python",
   "pygments_lexer": "ipython3",
   "version": "3.11.5"
  }
 },
 "nbformat": 4,
 "nbformat_minor": 2
}
